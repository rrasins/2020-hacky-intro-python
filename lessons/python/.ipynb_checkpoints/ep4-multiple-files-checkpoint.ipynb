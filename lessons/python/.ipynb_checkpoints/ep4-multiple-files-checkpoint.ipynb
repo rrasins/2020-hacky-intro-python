{
 "cells": [
  {
   "cell_type": "markdown",
   "metadata": {},
   "source": [
    "# Programming with Python\n",
    "\n",
    "## Episode 4 - Analysing Data from Multiple Files\n",
    "\n",
    "Teaching: 20 min, \n",
    "Exercises: 20 min "
   ]
  },
  {
   "cell_type": "markdown",
   "metadata": {},
   "source": [
    "## Objectives\n",
    "- Use a library function to get a list of filenames that match a wildcard pattern.\n",
    "- How can I do the same operations on many different files?\n",
    "- Write a for loop to process multiple files."
   ]
  },
  {
   "cell_type": "markdown",
   "metadata": {},
   "source": [
    "We now have almost everything we need to process all our data files. The only thing that's missing is a library with a rather unpleasant name `glob`, let's import it.\n",
    "```\n",
    "import glob\n",
    "```"
   ]
  },
  {
   "cell_type": "code",
   "execution_count": null,
   "metadata": {},
   "outputs": [],
   "source": [
    "import glob"
   ]
  },
  {
   "cell_type": "markdown",
   "metadata": {},
   "source": [
    "The `glob` library contains a function, also called `glob`, that finds files and directories whose names match a pattern. We provide those patterns as strings which may include *wildcards*: \n",
    "\n",
    "- the wildcard character `*` matches zero or more of any character\n",
    "- the wildcard character `?` matches a single character.\n",
    "\n",
    "We can use this to get the names of all the CSV files in the `data` directory:\n",
    "```\n",
    "print(glob.glob('data/inflammation*.csv'))\n",
    "```"
   ]
  },
  {
   "cell_type": "code",
   "execution_count": null,
   "metadata": {},
   "outputs": [],
   "source": []
  },
  {
   "cell_type": "markdown",
   "metadata": {},
   "source": [
    "`glob.glob`'s result is a list of matching filenames and directory paths (in arbitrary order). \n",
    "\n",
    "This means we can loop over it to do something with each filename in turn. In our case, the \"something\" we want to do is generate a set of plots for each file in our complete inflammation dataset. \n",
    "\n",
    "If we want to start by analysing just the first three files in alphabetical order, we can use the built-in `sorted` function to generate a new sorted list from the `glob.glob` output:\n",
    "\n",
    "```\n",
    "import numpy\n",
    "import matplotlib.pyplot\n",
    "\n",
    "filenames = sorted(glob.glob('data/inflammation*.csv'))\n",
    "filenames = filenames[0:3]\n",
    "\n",
    "print(filenames)\n",
    "```"
   ]
  },
  {
   "cell_type": "code",
   "execution_count": null,
   "metadata": {},
   "outputs": [],
   "source": [
    "import numpy\n",
    "import matplotlib.pyplot\n",
    "import glob\n",
    "\n",
    "filenames = sorted(glob.glob('data/inflammation*.csv'))\n",
    "#filenames = filenames[0:12]\n",
    "print(filenames)\n"
   ]
  },
  {
   "cell_type": "markdown",
   "metadata": {},
   "source": [
    "and now we can loop over each filename in turn using the code from an earlier episode to product a set of plots for each.\n",
    "```\n",
    "for f in filenames:\n",
    "    print(f)\n",
    "\n",
    "    data = numpy.loadtxt(fname=f, delimiter=',')\n",
    "\n",
    "    fig = matplotlib.pyplot.figure(figsize=(10.0, 3.0))\n",
    "\n",
    "    axes1 = fig.add_subplot(1, 3, 1)\n",
    "    axes2 = fig.add_subplot(1, 3, 2)\n",
    "    axes3 = fig.add_subplot(1, 3, 3)\n",
    "\n",
    "    axes1.set_ylabel('average')\n",
    "    axes1.plot(numpy.mean(data, axis=0))\n",
    "\n",
    "    axes2.set_ylabel('max')\n",
    "    axes2.plot(numpy.max(data, axis=0))\n",
    "\n",
    "    axes3.set_ylabel('min')\n",
    "    axes3.plot(numpy.min(data, axis=0))\n",
    "\n",
    "    fig.tight_layout()\n",
    "    matplotlib.pyplot.show()\n",
    "```"
   ]
  },
  {
   "cell_type": "code",
   "execution_count": null,
   "metadata": {},
   "outputs": [],
   "source": [
    "for f in filenames:\n",
    "    print(f)\n",
    "\n",
    "    data = numpy.loadtxt(fname=f, delimiter=',')\n",
    "\n",
    "    fig = matplotlib.pyplot.figure(figsize=(10.0, 3.0))\n",
    "\n",
    "    axes1 = fig.add_subplot(1, 3, 1)\n",
    "    axes2 = fig.add_subplot(1, 3, 2)\n",
    "    axes3 = fig.add_subplot(1, 3, 3)\n",
    "\n",
    "    axes1.set_ylabel('average')\n",
    "    axes1.plot(numpy.mean(data, axis=0))\n",
    "\n",
    "    axes2.set_ylabel('max')\n",
    "    axes2.plot(numpy.max(data, axis=0))\n",
    "\n",
    "    axes3.set_ylabel('min')\n",
    "    axes3.plot(numpy.min(data, axis=0))\n",
    "\n",
    "    fig.tight_layout()\n",
    "    matplotlib.pyplot.show()"
   ]
  },
  {
   "cell_type": "markdown",
   "metadata": {},
   "source": [
    "Sure enough, the maxima of the first two data sets show exactly the same ramp as the first, and their minima show the same staircase structure; a different situation has been revealed in the third dataset, where the maxima are a bit less regular, but the minima are consistently zero - probably indicating an issue in our data."
   ]
  },
  {
   "cell_type": "markdown",
   "metadata": {},
   "source": [
    "## Exercises"
   ]
  },
  {
   "cell_type": "markdown",
   "metadata": {},
   "source": [
    "#### Plotting differences between data files\n",
    "Plot the difference between the average of the first dataset and the average of the second dataset, i.e., the difference between the leftmost plot of the first two figures."
   ]
  },
  {
   "cell_type": "code",
   "execution_count": null,
   "metadata": {},
   "outputs": [],
   "source": [
    "import glob\n",
    "import numpy as np\n",
    "import matplotlib.pyplot as plt\n",
    "\n",
    "# Grab all the filenames and sort them \n",
    "filenames = sorted(glob.glob('data/inflammation*.csv'))\n",
    "\n",
    "# load the first 2 data files\n",
    "data0 = np.loadtxt(fname=filenames[0], delimiter=',')\n",
    "data1 = np.loadtxt(fname=filenames[1], delimiter=',')\n",
    "\n",
    "# create a figure\n",
    "fig = plt.figure(figsize=(10.0, 3.0))\n",
    "\n",
    "# add a label to Y axis\n",
    "plt.ylabel('Difference in average')\n",
    "\n",
    "# now compute the means - np.mean()\n",
    "\n",
    "# and plot the difference between the meansof the first and second data set - plt.plt()\n",
    "\n",
    "\n",
    "\n",
    "\n",
    "\n",
    "# and show it\n",
    "plt.show()"
   ]
  },
  {
   "cell_type": "markdown",
   "metadata": {},
   "source": [
    "#### Generate Composite Statistics\n",
    "Use each of the files once, to generate a dataset containing values averaged over all patients:\n"
   ]
  },
  {
   "cell_type": "code",
   "execution_count": null,
   "metadata": {},
   "outputs": [],
   "source": [
    "import glob\n",
    "import numpy as np\n",
    "import matplotlib.pyplot as plt\n",
    "\n",
    "filenames = glob.glob('data/inflammation*.csv')\n",
    "composite_data = np.zeros((60,40))\n",
    "\n",
    "for f in filenames:\n",
    "    #\n",
    "    # read each file (np.loadtxt) and add it to the composite_data vector\n",
    "    #\n",
    "    \n",
    "    \n",
    "# and rescale it\n",
    "composite_data/=len(filenames)\n",
    "\n",
    "print(composite_data)"
   ]
  },
  {
   "cell_type": "markdown",
   "metadata": {},
   "source": [
    "and now plot the stats for the composite date it using `matplotlib`"
   ]
  },
  {
   "cell_type": "code",
   "execution_count": null,
   "metadata": {},
   "outputs": [],
   "source": [
    "fig = plt.figure(figsize=(10.0, 3.0))\n",
    "\n",
    "axes1 = fig.add_subplot(1, 3, 1)\n",
    "axes2 = fig.add_subplot(1, 3, 2)\n",
    "axes3 = fig.add_subplot(1, 3, 3)\n",
    "\n",
    "axes1.set_ylabel('average')\n",
    "axes1.plot(np.mean(composite_data, axis=0))\n",
    "\n",
    "axes2.set_ylabel('max')\n",
    "axes2.plot(np.max(composite_data, axis=0))\n",
    "\n",
    "axes3.set_ylabel('min')\n",
    "axes3.plot(np.min(composite_data, axis=0))\n",
    "\n",
    "fig.tight_layout()\n",
    "\n",
    "plt.show()"
   ]
  },
  {
   "cell_type": "markdown",
   "metadata": {},
   "source": [
    "## Key Points\n",
    "Use `glob.glob(pattern)` to create a list of files whose names match a pattern.\n",
    "\n",
    "Use `*` in a pattern to match zero or more characters, and ? to match any single character."
   ]
  },
  {
   "cell_type": "markdown",
   "metadata": {},
   "source": [
    "### Save, and version control your changes\n",
    "\n",
    "- save your work: `File -> Save`\n",
    "- add all your changes to your local repository: `Terminal -> git add .`\n",
    "- commit your updates a new Git version:  `Terminal -> git commit -m \"End of Episode 4\"`\n",
    "- push your latest commits to GitHub: `Terminal -> git push`"
   ]
  }
 ],
 "metadata": {
  "kernelspec": {
   "display_name": "Python 3",
   "language": "python",
   "name": "python3"
  },
  "language_info": {
   "codemirror_mode": {
    "name": "ipython",
    "version": 3
   },
   "file_extension": ".py",
   "mimetype": "text/x-python",
   "name": "python",
   "nbconvert_exporter": "python",
   "pygments_lexer": "ipython3",
   "version": "3.7.8"
  }
 },
 "nbformat": 4,
 "nbformat_minor": 4
}
