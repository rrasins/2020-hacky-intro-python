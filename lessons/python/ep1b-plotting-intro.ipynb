{
 "cells": [
  {
   "cell_type": "markdown",
   "metadata": {},
   "source": [
    "# Programming with Python\n",
    "\n",
    "## Episode 1b - Introduction to Plotting\n",
    "\n",
    "Teaching: 60 min, \n",
    "Exercises: 30 min \n"
   ]
  },
  {
   "cell_type": "markdown",
   "metadata": {},
   "source": [
    "Objectives\n",
    "\n",
    "- Perform operations on arrays of data.\n",
    "\n",
    "- Plot simple graphs from data."
   ]
  },
  {
   "cell_type": "markdown",
   "metadata": {},
   "source": [
    "### Array operations\n",
    "Often, we want to do more than add, subtract, multiply, and divide array elements. NumPy knows how to do more complex operations, too. If we want to find the average inflammation for all patients on all days, for example, we can ask NumPy to compute data's mean value:\n",
    "\n",
    "```\n",
    "print(numpy.mean(data))\n",
    "```"
   ]
  },
  {
   "cell_type": "code",
   "execution_count": 5,
   "metadata": {},
   "outputs": [
    {
     "name": "stdout",
     "output_type": "stream",
     "text": [
      "6.14875\n"
     ]
    }
   ],
   "source": [
    "import numpy\n",
    "data = numpy.loadtxt(fname='data/inflammation-01.csv', delimiter=',')\n",
    "print(numpy.mean(data))"
   ]
  },
  {
   "cell_type": "code",
   "execution_count": 2,
   "metadata": {},
   "outputs": [
    {
     "data": {
      "text/plain": [
       "\u001b[0;31mSignature:\u001b[0m\n",
       "\u001b[0mnumpy\u001b[0m\u001b[0;34m.\u001b[0m\u001b[0mloadtxt\u001b[0m\u001b[0;34m(\u001b[0m\u001b[0;34m\u001b[0m\n",
       "\u001b[0;34m\u001b[0m    \u001b[0mfname\u001b[0m\u001b[0;34m,\u001b[0m\u001b[0;34m\u001b[0m\n",
       "\u001b[0;34m\u001b[0m    \u001b[0mdtype\u001b[0m\u001b[0;34m=\u001b[0m\u001b[0;34m<\u001b[0m\u001b[0;32mclass\u001b[0m \u001b[0;34m'float'\u001b[0m\u001b[0;34m>\u001b[0m\u001b[0;34m,\u001b[0m\u001b[0;34m\u001b[0m\n",
       "\u001b[0;34m\u001b[0m    \u001b[0mcomments\u001b[0m\u001b[0;34m=\u001b[0m\u001b[0;34m'#'\u001b[0m\u001b[0;34m,\u001b[0m\u001b[0;34m\u001b[0m\n",
       "\u001b[0;34m\u001b[0m    \u001b[0mdelimiter\u001b[0m\u001b[0;34m=\u001b[0m\u001b[0;32mNone\u001b[0m\u001b[0;34m,\u001b[0m\u001b[0;34m\u001b[0m\n",
       "\u001b[0;34m\u001b[0m    \u001b[0mconverters\u001b[0m\u001b[0;34m=\u001b[0m\u001b[0;32mNone\u001b[0m\u001b[0;34m,\u001b[0m\u001b[0;34m\u001b[0m\n",
       "\u001b[0;34m\u001b[0m    \u001b[0mskiprows\u001b[0m\u001b[0;34m=\u001b[0m\u001b[0;36m0\u001b[0m\u001b[0;34m,\u001b[0m\u001b[0;34m\u001b[0m\n",
       "\u001b[0;34m\u001b[0m    \u001b[0musecols\u001b[0m\u001b[0;34m=\u001b[0m\u001b[0;32mNone\u001b[0m\u001b[0;34m,\u001b[0m\u001b[0;34m\u001b[0m\n",
       "\u001b[0;34m\u001b[0m    \u001b[0munpack\u001b[0m\u001b[0;34m=\u001b[0m\u001b[0;32mFalse\u001b[0m\u001b[0;34m,\u001b[0m\u001b[0;34m\u001b[0m\n",
       "\u001b[0;34m\u001b[0m    \u001b[0mndmin\u001b[0m\u001b[0;34m=\u001b[0m\u001b[0;36m0\u001b[0m\u001b[0;34m,\u001b[0m\u001b[0;34m\u001b[0m\n",
       "\u001b[0;34m\u001b[0m    \u001b[0mencoding\u001b[0m\u001b[0;34m=\u001b[0m\u001b[0;34m'bytes'\u001b[0m\u001b[0;34m,\u001b[0m\u001b[0;34m\u001b[0m\n",
       "\u001b[0;34m\u001b[0m    \u001b[0mmax_rows\u001b[0m\u001b[0;34m=\u001b[0m\u001b[0;32mNone\u001b[0m\u001b[0;34m,\u001b[0m\u001b[0;34m\u001b[0m\n",
       "\u001b[0;34m\u001b[0m\u001b[0;34m)\u001b[0m\u001b[0;34m\u001b[0m\u001b[0;34m\u001b[0m\u001b[0m\n",
       "\u001b[0;31mDocstring:\u001b[0m\n",
       "Load data from a text file.\n",
       "\n",
       "Each row in the text file must have the same number of values.\n",
       "\n",
       "Parameters\n",
       "----------\n",
       "fname : file, str, or pathlib.Path\n",
       "    File, filename, or generator to read.  If the filename extension is\n",
       "    ``.gz`` or ``.bz2``, the file is first decompressed. Note that\n",
       "    generators should return byte strings.\n",
       "dtype : data-type, optional\n",
       "    Data-type of the resulting array; default: float.  If this is a\n",
       "    structured data-type, the resulting array will be 1-dimensional, and\n",
       "    each row will be interpreted as an element of the array.  In this\n",
       "    case, the number of columns used must match the number of fields in\n",
       "    the data-type.\n",
       "comments : str or sequence of str, optional\n",
       "    The characters or list of characters used to indicate the start of a\n",
       "    comment. None implies no comments. For backwards compatibility, byte\n",
       "    strings will be decoded as 'latin1'. The default is '#'.\n",
       "delimiter : str, optional\n",
       "    The string used to separate values. For backwards compatibility, byte\n",
       "    strings will be decoded as 'latin1'. The default is whitespace.\n",
       "converters : dict, optional\n",
       "    A dictionary mapping column number to a function that will parse the\n",
       "    column string into the desired value.  E.g., if column 0 is a date\n",
       "    string: ``converters = {0: datestr2num}``.  Converters can also be\n",
       "    used to provide a default value for missing data (but see also\n",
       "    `genfromtxt`): ``converters = {3: lambda s: float(s.strip() or 0)}``.\n",
       "    Default: None.\n",
       "skiprows : int, optional\n",
       "    Skip the first `skiprows` lines, including comments; default: 0.\n",
       "usecols : int or sequence, optional\n",
       "    Which columns to read, with 0 being the first. For example,\n",
       "    ``usecols = (1,4,5)`` will extract the 2nd, 5th and 6th columns.\n",
       "    The default, None, results in all columns being read.\n",
       "\n",
       "    .. versionchanged:: 1.11.0\n",
       "        When a single column has to be read it is possible to use\n",
       "        an integer instead of a tuple. E.g ``usecols = 3`` reads the\n",
       "        fourth column the same way as ``usecols = (3,)`` would.\n",
       "unpack : bool, optional\n",
       "    If True, the returned array is transposed, so that arguments may be\n",
       "    unpacked using ``x, y, z = loadtxt(...)``.  When used with a structured\n",
       "    data-type, arrays are returned for each field.  Default is False.\n",
       "ndmin : int, optional\n",
       "    The returned array will have at least `ndmin` dimensions.\n",
       "    Otherwise mono-dimensional axes will be squeezed.\n",
       "    Legal values: 0 (default), 1 or 2.\n",
       "\n",
       "    .. versionadded:: 1.6.0\n",
       "encoding : str, optional\n",
       "    Encoding used to decode the inputfile. Does not apply to input streams.\n",
       "    The special value 'bytes' enables backward compatibility workarounds\n",
       "    that ensures you receive byte arrays as results if possible and passes\n",
       "    'latin1' encoded strings to converters. Override this value to receive\n",
       "    unicode arrays and pass strings as input to converters.  If set to None\n",
       "    the system default is used. The default value is 'bytes'.\n",
       "\n",
       "    .. versionadded:: 1.14.0\n",
       "max_rows : int, optional\n",
       "    Read `max_rows` lines of content after `skiprows` lines. The default\n",
       "    is to read all the lines.\n",
       "\n",
       "    .. versionadded:: 1.16.0\n",
       "\n",
       "Returns\n",
       "-------\n",
       "out : ndarray\n",
       "    Data read from the text file.\n",
       "\n",
       "See Also\n",
       "--------\n",
       "load, fromstring, fromregex\n",
       "genfromtxt : Load data with missing values handled as specified.\n",
       "scipy.io.loadmat : reads MATLAB data files\n",
       "\n",
       "Notes\n",
       "-----\n",
       "This function aims to be a fast reader for simply formatted files.  The\n",
       "`genfromtxt` function provides more sophisticated handling of, e.g.,\n",
       "lines with missing values.\n",
       "\n",
       ".. versionadded:: 1.10.0\n",
       "\n",
       "The strings produced by the Python float.hex method can be used as\n",
       "input for floats.\n",
       "\n",
       "Examples\n",
       "--------\n",
       ">>> from io import StringIO   # StringIO behaves like a file object\n",
       ">>> c = StringIO(\"0 1\\n2 3\")\n",
       ">>> np.loadtxt(c)\n",
       "array([[0., 1.],\n",
       "       [2., 3.]])\n",
       "\n",
       ">>> d = StringIO(\"M 21 72\\nF 35 58\")\n",
       ">>> np.loadtxt(d, dtype={'names': ('gender', 'age', 'weight'),\n",
       "...                      'formats': ('S1', 'i4', 'f4')})\n",
       "array([(b'M', 21, 72.), (b'F', 35, 58.)],\n",
       "      dtype=[('gender', 'S1'), ('age', '<i4'), ('weight', '<f4')])\n",
       "\n",
       ">>> c = StringIO(\"1,0,2\\n3,0,4\")\n",
       ">>> x, y = np.loadtxt(c, delimiter=',', usecols=(0, 2), unpack=True)\n",
       ">>> x\n",
       "array([1., 3.])\n",
       ">>> y\n",
       "array([2., 4.])\n",
       "\n",
       "This example shows how `converters` can be used to convert a field\n",
       "with a trailing minus sign into a negative number.\n",
       "\n",
       ">>> s = StringIO('10.01 31.25-\\n19.22 64.31\\n17.57- 63.94')\n",
       ">>> def conv(fld):\n",
       "...     return -float(fld[:-1]) if fld.endswith(b'-') else float(fld)\n",
       "...\n",
       ">>> np.loadtxt(s, converters={0: conv, 1: conv})\n",
       "array([[ 10.01, -31.25],\n",
       "       [ 19.22,  64.31],\n",
       "       [-17.57,  63.94]])\n",
       "\u001b[0;31mFile:\u001b[0m      /srv/conda/envs/notebook/lib/python3.7/site-packages/numpy/lib/npyio.py\n",
       "\u001b[0;31mType:\u001b[0m      function\n"
      ]
     },
     "metadata": {},
     "output_type": "display_data"
    }
   ],
   "source": [
    "numpy.loadtxt?"
   ]
  },
  {
   "cell_type": "markdown",
   "metadata": {},
   "source": [
    "`mean()` is a function that takes an array as an argument.\n",
    "\n",
    "However, not all functions have input.\n",
    "\n",
    "Generally, a function uses inputs to produce outputs. However, some functions produce outputs without needing any input. For example, checking the current time doesn't require any input.\n",
    "\n",
    "```\n",
    "import time\n",
    "print(time.ctime())\n",
    "```"
   ]
  },
  {
   "cell_type": "code",
   "execution_count": 3,
   "metadata": {},
   "outputs": [
    {
     "name": "stdout",
     "output_type": "stream",
     "text": [
      "Wed Jul 15 05:17:55 2020\n"
     ]
    }
   ],
   "source": [
    "import time\n",
    "print(time.ctime())"
   ]
  },
  {
   "cell_type": "code",
   "execution_count": 4,
   "metadata": {},
   "outputs": [
    {
     "name": "stdout",
     "output_type": "stream",
     "text": [
      "20200715\n"
     ]
    }
   ],
   "source": [
    "from datetime import datetime\n",
    "print(datetime.today().strftime('%Y%m%d'))"
   ]
  },
  {
   "cell_type": "markdown",
   "metadata": {},
   "source": [
    "For functions that don't take in any arguments, we still need parentheses `()` to tell Python to go and do something for us.\n",
    "\n",
    "NumPy has lots of useful functions that take an array as input. Let's use three of those functions to get some descriptive values about the dataset. We'll also use *multiple assignment*, a convenient Python feature that will enable us to do this all in one line.\n",
    "\n",
    "```\n",
    "maxval, minval, stdval = numpy.max(data), numpy.min(data), numpy.std(data)\n",
    "```"
   ]
  },
  {
   "cell_type": "code",
   "execution_count": 5,
   "metadata": {},
   "outputs": [],
   "source": [
    "maxval, minval, stdval = numpy.max(data), numpy.min(data), numpy.std(data)"
   ]
  },
  {
   "cell_type": "markdown",
   "metadata": {},
   "source": [
    "Here we've assigned the return value from `numpy.max(data)` to the variable `maxval`, the return value from `numpy.min(data)` to `minval`, and so on. \n",
    "\n",
    "Let's have a look at the results:\n",
    "\n",
    "```\n",
    "print('maximum inflammation:', maxval)\n",
    "print('minimum inflammation:', minval)\n",
    "print('standard deviation:', stdval)\n",
    "```"
   ]
  },
  {
   "cell_type": "code",
   "execution_count": 6,
   "metadata": {},
   "outputs": [
    {
     "name": "stdout",
     "output_type": "stream",
     "text": [
      "maximum inflammation: 20.0\n",
      "minimum inflammation: 0.0\n",
      "standard deviation: 4.613833197118566\n"
     ]
    }
   ],
   "source": [
    "print('maximum inflammation:', maxval)\n",
    "print('minimum inflammation:', minval)\n",
    "print('standard deviation:', stdval)"
   ]
  },
  {
   "cell_type": "markdown",
   "metadata": {},
   "source": [
    "#### Mystery Functions in IPython\n",
    "\n",
    "How did we know what functions NumPy has and how to use them? \n",
    "\n",
    "If you are working in IPython or in a Jupyter Notebook (which we are), there is an easy way to find out. If you type the name of something followed by a dot `.`, then you can use `Tab` completion (e.g. type `numpy.` and then press `tab`) to see a list of all functions and attributes that you can use. "
   ]
  },
  {
   "cell_type": "code",
   "execution_count": 7,
   "metadata": {},
   "outputs": [
    {
     "data": {
      "text/plain": [
       "\u001b[0;31mSignature:\u001b[0m \u001b[0mnumpy\u001b[0m\u001b[0;34m.\u001b[0m\u001b[0mcumprod\u001b[0m\u001b[0;34m(\u001b[0m\u001b[0ma\u001b[0m\u001b[0;34m,\u001b[0m \u001b[0maxis\u001b[0m\u001b[0;34m=\u001b[0m\u001b[0;32mNone\u001b[0m\u001b[0;34m,\u001b[0m \u001b[0mdtype\u001b[0m\u001b[0;34m=\u001b[0m\u001b[0;32mNone\u001b[0m\u001b[0;34m,\u001b[0m \u001b[0mout\u001b[0m\u001b[0;34m=\u001b[0m\u001b[0;32mNone\u001b[0m\u001b[0;34m)\u001b[0m\u001b[0;34m\u001b[0m\u001b[0;34m\u001b[0m\u001b[0m\n",
       "\u001b[0;31mDocstring:\u001b[0m\n",
       "Return the cumulative product of elements along a given axis.\n",
       "\n",
       "Parameters\n",
       "----------\n",
       "a : array_like\n",
       "    Input array.\n",
       "axis : int, optional\n",
       "    Axis along which the cumulative product is computed.  By default\n",
       "    the input is flattened.\n",
       "dtype : dtype, optional\n",
       "    Type of the returned array, as well as of the accumulator in which\n",
       "    the elements are multiplied.  If *dtype* is not specified, it\n",
       "    defaults to the dtype of `a`, unless `a` has an integer dtype with\n",
       "    a precision less than that of the default platform integer.  In\n",
       "    that case, the default platform integer is used instead.\n",
       "out : ndarray, optional\n",
       "    Alternative output array in which to place the result. It must\n",
       "    have the same shape and buffer length as the expected output\n",
       "    but the type of the resulting values will be cast if necessary.\n",
       "\n",
       "Returns\n",
       "-------\n",
       "cumprod : ndarray\n",
       "    A new array holding the result is returned unless `out` is\n",
       "    specified, in which case a reference to out is returned.\n",
       "\n",
       "See Also\n",
       "--------\n",
       "ufuncs-output-type\n",
       "\n",
       "Notes\n",
       "-----\n",
       "Arithmetic is modular when using integer types, and no error is\n",
       "raised on overflow.\n",
       "\n",
       "Examples\n",
       "--------\n",
       ">>> a = np.array([1,2,3])\n",
       ">>> np.cumprod(a) # intermediate results 1, 1*2\n",
       "...               # total product 1*2*3 = 6\n",
       "array([1, 2, 6])\n",
       ">>> a = np.array([[1, 2, 3], [4, 5, 6]])\n",
       ">>> np.cumprod(a, dtype=float) # specify type of output\n",
       "array([   1.,    2.,    6.,   24.,  120.,  720.])\n",
       "\n",
       "The cumulative product for each column (i.e., over the rows) of `a`:\n",
       "\n",
       ">>> np.cumprod(a, axis=0)\n",
       "array([[ 1,  2,  3],\n",
       "       [ 4, 10, 18]])\n",
       "\n",
       "The cumulative product for each row (i.e. over the columns) of `a`:\n",
       "\n",
       ">>> np.cumprod(a,axis=1)\n",
       "array([[  1,   2,   6],\n",
       "       [  4,  20, 120]])\n",
       "\u001b[0;31mFile:\u001b[0m      /srv/conda/envs/notebook/lib/python3.7/site-packages/numpy/core/fromnumeric.py\n",
       "\u001b[0;31mType:\u001b[0m      function\n"
      ]
     },
     "metadata": {},
     "output_type": "display_data"
    }
   ],
   "source": [
    "numpy.cumprod?"
   ]
  },
  {
   "cell_type": "markdown",
   "metadata": {},
   "source": [
    "After selecting one, you can also add a question mark `?` (e.g. `numpy.cumprod?`), and IPython will return an explanation of the method! \n",
    "\n",
    "This is the same as running `help(numpy.cumprod)`."
   ]
  },
  {
   "cell_type": "code",
   "execution_count": 8,
   "metadata": {},
   "outputs": [
    {
     "name": "stdout",
     "output_type": "stream",
     "text": [
      "Help on function cumprod in module numpy:\n",
      "\n",
      "cumprod(a, axis=None, dtype=None, out=None)\n",
      "    Return the cumulative product of elements along a given axis.\n",
      "    \n",
      "    Parameters\n",
      "    ----------\n",
      "    a : array_like\n",
      "        Input array.\n",
      "    axis : int, optional\n",
      "        Axis along which the cumulative product is computed.  By default\n",
      "        the input is flattened.\n",
      "    dtype : dtype, optional\n",
      "        Type of the returned array, as well as of the accumulator in which\n",
      "        the elements are multiplied.  If *dtype* is not specified, it\n",
      "        defaults to the dtype of `a`, unless `a` has an integer dtype with\n",
      "        a precision less than that of the default platform integer.  In\n",
      "        that case, the default platform integer is used instead.\n",
      "    out : ndarray, optional\n",
      "        Alternative output array in which to place the result. It must\n",
      "        have the same shape and buffer length as the expected output\n",
      "        but the type of the resulting values will be cast if necessary.\n",
      "    \n",
      "    Returns\n",
      "    -------\n",
      "    cumprod : ndarray\n",
      "        A new array holding the result is returned unless `out` is\n",
      "        specified, in which case a reference to out is returned.\n",
      "    \n",
      "    See Also\n",
      "    --------\n",
      "    ufuncs-output-type\n",
      "    \n",
      "    Notes\n",
      "    -----\n",
      "    Arithmetic is modular when using integer types, and no error is\n",
      "    raised on overflow.\n",
      "    \n",
      "    Examples\n",
      "    --------\n",
      "    >>> a = np.array([1,2,3])\n",
      "    >>> np.cumprod(a) # intermediate results 1, 1*2\n",
      "    ...               # total product 1*2*3 = 6\n",
      "    array([1, 2, 6])\n",
      "    >>> a = np.array([[1, 2, 3], [4, 5, 6]])\n",
      "    >>> np.cumprod(a, dtype=float) # specify type of output\n",
      "    array([   1.,    2.,    6.,   24.,  120.,  720.])\n",
      "    \n",
      "    The cumulative product for each column (i.e., over the rows) of `a`:\n",
      "    \n",
      "    >>> np.cumprod(a, axis=0)\n",
      "    array([[ 1,  2,  3],\n",
      "           [ 4, 10, 18]])\n",
      "    \n",
      "    The cumulative product for each row (i.e. over the columns) of `a`:\n",
      "    \n",
      "    >>> np.cumprod(a,axis=1)\n",
      "    array([[  1,   2,   6],\n",
      "           [  4,  20, 120]])\n",
      "\n"
     ]
    }
   ],
   "source": [
    "help(numpy.cumprod)"
   ]
  },
  {
   "cell_type": "markdown",
   "metadata": {},
   "source": [
    "When analysing data, though, we often want to look at variations in statistical values, such as the maximum inflammation per patient or the average inflammation per day. One way to do this is to create a new temporary array of the data we want, then ask it to do the calculation:\n",
    "\n",
    "```\n",
    "patient_0 = data[0, :]     # Comment: 0 on the first axis (rows), everything on the second (columns)\n",
    "print('maximum inflammation for patient 0:', numpy.max(patient_0))\n",
    "```"
   ]
  },
  {
   "cell_type": "code",
   "execution_count": 9,
   "metadata": {},
   "outputs": [
    {
     "name": "stdout",
     "output_type": "stream",
     "text": [
      "maximum inflammation for patient 0: 18.0\n"
     ]
    }
   ],
   "source": [
    "patient_0 = data[0, :]    # Comment: 0 on the first axis (rows), everything on the second axis (columns)\n",
    "print('maximum inflammation for patient 0:', numpy.max(patient_0))"
   ]
  },
  {
   "cell_type": "markdown",
   "metadata": {},
   "source": [
    "Everything in a line of code following the `#` symbol is a comment that is ignored by Python. Comments allow programmers to leave explanatory notes for other programmers or their future selves."
   ]
  },
  {
   "cell_type": "code",
   "execution_count": 10,
   "metadata": {},
   "outputs": [],
   "source": [
    "# Test comment"
   ]
  },
  {
   "cell_type": "markdown",
   "metadata": {},
   "source": [
    "We don't actually need to store the row in a variable of its own. Instead, we can combine the selection and the function call:\n",
    "\n",
    "```\n",
    "print('maximum inflammation for patient 2:', numpy.max(data[2, :]))\n",
    "```"
   ]
  },
  {
   "cell_type": "code",
   "execution_count": 11,
   "metadata": {},
   "outputs": [
    {
     "name": "stdout",
     "output_type": "stream",
     "text": [
      "maximum inflammation for patient 2: 19.0\n"
     ]
    }
   ],
   "source": [
    "print('maximum inflammation for patient 2:', numpy.max(data[2, :]))"
   ]
  },
  {
   "cell_type": "markdown",
   "metadata": {},
   "source": [
    "Operations Across Axes\n",
    "\n",
    "What if we need the maximum inflammation for each patient over all days or the average for each day ? In other words want to perform the operation across a different axis.\n",
    "\n",
    "To support this functionality, most array functions allow us to specify the axis we want to work on. If we ask for the average across axis 0 (rows in our 2D example), we get:\n",
    "\n",
    "```\n",
    "print(numpy.mean(data, axis=0))\n",
    "```"
   ]
  },
  {
   "cell_type": "code",
   "execution_count": 12,
   "metadata": {},
   "outputs": [
    {
     "name": "stdout",
     "output_type": "stream",
     "text": [
      "[ 0.          0.45        1.11666667  1.75        2.43333333  3.15\n",
      "  3.8         3.88333333  5.23333333  5.51666667  5.95        5.9\n",
      "  8.35        7.73333333  8.36666667  9.5         9.58333333 10.63333333\n",
      " 11.56666667 12.35       13.25       11.96666667 11.03333333 10.16666667\n",
      " 10.          8.66666667  9.15        7.25        7.33333333  6.58333333\n",
      "  6.06666667  5.95        5.11666667  3.6         3.3         3.56666667\n",
      "  2.48333333  1.5         1.13333333  0.56666667]\n"
     ]
    }
   ],
   "source": [
    "print(numpy.mean(data, axis=0))"
   ]
  },
  {
   "cell_type": "markdown",
   "metadata": {},
   "source": [
    "As a quick check, we can ask this array what its shape is:\n",
    "\n",
    "```\n",
    "print(numpy.mean(data, axis=0).shape)\n",
    "```"
   ]
  },
  {
   "cell_type": "markdown",
   "metadata": {},
   "source": [
    "The results (40,) tells us we have an N×1 vector, so this is the average inflammation per day for all 40 patients. If we average across axis 1 (columns in our  example), we use:\n",
    "\n",
    "```\n",
    "print(numpy.mean(data, axis=1))\n",
    "```"
   ]
  },
  {
   "cell_type": "code",
   "execution_count": 13,
   "metadata": {},
   "outputs": [
    {
     "name": "stdout",
     "output_type": "stream",
     "text": [
      "(40,)\n",
      "(60,)\n"
     ]
    }
   ],
   "source": [
    "print(numpy.mean(data, axis=0).shape)\n",
    "print(numpy.mean(data, axis=1).shape)"
   ]
  },
  {
   "cell_type": "markdown",
   "metadata": {},
   "source": [
    "which is the average inflammation per patient across all days.\n",
    "\n",
    "And if you are now confused, here's a simpler example:\n",
    "\n",
    "```\n",
    "tiny = [[1, 2, 3, 4],\n",
    "        [10, 20, 30, 40],\n",
    "        [100, 200, 300, 400]]\n",
    "        \n",
    "print(tiny)\n",
    "print('Sum the entire matrix: ', numpy.sum(tiny))\n",
    "```"
   ]
  },
  {
   "cell_type": "code",
   "execution_count": 14,
   "metadata": {},
   "outputs": [
    {
     "name": "stdout",
     "output_type": "stream",
     "text": [
      "[[  1   2   3   4]\n",
      " [ 10  20  30  40]\n",
      " [100 200 300 400]]\n",
      "Sum the entire matrix: 1110\n"
     ]
    }
   ],
   "source": [
    "tiny = numpy.array([[1, 2, 3, 4], [10, 20, 30, 40], [100, 200, 300, 400]])\n",
    "print(tiny)\n",
    "print('Sum the entire matrix:', numpy.sum(tiny))"
   ]
  },
  {
   "cell_type": "markdown",
   "metadata": {},
   "source": [
    "Now let's add the rows (first axis, i.e. zeroth)\n",
    "\n",
    "```\n",
    "print('Sum the columns (i.e. add the rows): ', numpy.sum(tiny, axis=0))\n",
    "```"
   ]
  },
  {
   "cell_type": "code",
   "execution_count": 15,
   "metadata": {},
   "outputs": [
    {
     "name": "stdout",
     "output_type": "stream",
     "text": [
      "Sum the columns (i.e. add the rows): [111 222 333 444]\n"
     ]
    }
   ],
   "source": [
    "print('Sum the columns (i.e. add the rows):', numpy.sum(tiny, axis=0))"
   ]
  },
  {
   "cell_type": "markdown",
   "metadata": {},
   "source": [
    "and now on the other dimension (axis=1, i.e. the second dimension)\n",
    "\n",
    "```\n",
    "print('Sum the rows (i.e. add the columns): ', numpy.sum(tiny, axis=1))\n",
    "```"
   ]
  },
  {
   "cell_type": "code",
   "execution_count": 16,
   "metadata": {},
   "outputs": [
    {
     "name": "stdout",
     "output_type": "stream",
     "text": [
      "Sum the rows (i.e. add the columns:) [  10  100 1000]\n"
     ]
    },
    {
     "data": {
      "text/plain": [
       "array([  10,  100, 1000])"
      ]
     },
     "execution_count": 16,
     "metadata": {},
     "output_type": "execute_result"
    }
   ],
   "source": [
    "print('Sum the rows (i.e. add the columns:)', numpy.sum(tiny, axis=1))\n",
    "numpy.sum(tiny, axis=1)"
   ]
  },
  {
   "cell_type": "markdown",
   "metadata": {},
   "source": [
    "Here's a diagram to demonstrate how array axes work in NumPy:\n",
    "\n",
    "![Data Files](data/numpy-axes.png)\n",
    "\n",
    "- `numpy.sum(data)` --> Sum all elements in data\n",
    "- `numpy.sum(data, axis=0)` --> Sum vertically (down, axis=0)\n",
    "- `numpy.sum(data, axis=1)` --> Sum horizontally (across, axis=1)\n"
   ]
  },
  {
   "cell_type": "markdown",
   "metadata": {},
   "source": [
    "### Visualising data\n",
    "\n",
    "The mathematician Richard Hamming once said, “The purpose of computing is insight, not numbers,” and the best way to develop insight is often to visualise data.\n",
    "\n",
    "Visualisation deserves an entire workshop of its own, but we can explore a few features of Python's `matplotlib` library here. While there is no official plotting library, `matplotlib` is the de facto standard. First, we will import the `pyplot` module from `matplotlib` and use two of its functions to create and display a heat map of our data:\n",
    "\n",
    "```\n",
    "import matplotlib.pyplot\n",
    "plot = matplotlib.pyplot.imshow(data)\n",
    "```"
   ]
  },
  {
   "cell_type": "code",
   "execution_count": 3,
   "metadata": {},
   "outputs": [],
   "source": [
    "import matplotlib.pyplot"
   ]
  },
  {
   "cell_type": "code",
   "execution_count": 6,
   "metadata": {},
   "outputs": [
    {
     "data": {
      "image/png": "[encoded data removed]",
      "text/plain": [
       "<Figure size 432x288 with 1 Axes>"
      ]
     },
     "metadata": {
      "needs_background": "light"
     },
     "output_type": "display_data"
    }
   ],
   "source": [
    "plot = matplotlib.pyplot.imshow(data)"
   ]
  },
  {
   "cell_type": "markdown",
   "metadata": {},
   "source": [
    "#### Heatmap of the Data\n",
    "\n",
    "Blue pixels in this heat map represent low values, while yellow pixels represent high values. As we can see, inflammation rises and falls over a 40-day period.\n",
    "\n",
    "#### Some IPython Magic\n",
    "\n",
    "If you're using a Jupyter notebook, you'll need to execute the following command in order for your matplotlib images to appear in the notebook when show() is called:\n",
    "\n",
    "```\n",
    "%matplotlib inline\n",
    "```"
   ]
  },
  {
   "cell_type": "code",
   "execution_count": 7,
   "metadata": {},
   "outputs": [],
   "source": [
    "%matplotlib inline"
   ]
  },
  {
   "cell_type": "markdown",
   "metadata": {},
   "source": [
    "The `%` indicates an IPython magic function - a function that is only valid within the notebook environment. Note that you only have to execute this function once per notebook."
   ]
  },
  {
   "cell_type": "markdown",
   "metadata": {},
   "source": [
    "Let's take a look at the average inflammation over time:\n",
    "\n",
    "```\n",
    "ave_inflammation = numpy.mean(data, axis=0)\n",
    "ave_plot = matplotlib.pyplot.plot(ave_inflammation)\n",
    "```"
   ]
  },
  {
   "cell_type": "code",
   "execution_count": 5,
   "metadata": {},
   "outputs": [
    {
     "data": {
      "image/png": "[encoded data removed]",
      "text/plain": [
       "<Figure size 432x288 with 1 Axes>"
      ]
     },
     "metadata": {
      "needs_background": "light"
     },
     "output_type": "display_data"
    }
   ],
   "source": [
    "ave_inflammation = numpy.mean(data, axis=0)\n",
    "ave_plot = matplotlib.pyplot.plot(ave_inflammation)"
   ]
  },
  {
   "cell_type": "markdown",
   "metadata": {},
   "source": [
    "Here, we have put the average per day across all patients in the variable `ave_inflammation`, then asked `matplotlib.pyplot` to create and display a line graph of those values. The result is a roughly linear rise and fall, which is suspicious: we might instead expect a sharper rise and slower fall. \n",
    "\n",
    "Let's have a look at two other statistics, the maximum inflammation of all the patients each day:\n",
    "```\n",
    "max_plot = matplotlib.pyplot.plot(numpy.max(data, axis=0))\n",
    "```"
   ]
  },
  {
   "cell_type": "code",
   "execution_count": 6,
   "metadata": {},
   "outputs": [
    {
     "data": {
      "image/png": "[encoded data removed]",
      "text/plain": [
       "<Figure size 432x288 with 1 Axes>"
      ]
     },
     "metadata": {
      "needs_background": "light"
     },
     "output_type": "display_data"
    }
   ],
   "source": [
    "max_plot = matplotlib.pyplot.plot(numpy.max(data, axis=0))"
   ]
  },
  {
   "cell_type": "markdown",
   "metadata": {},
   "source": [
    "... and the minimum inflammation across all patient each day ...\n",
    "```\n",
    "min_plot = matplotlib.pyplot.plot(numpy.min(data, axis=0))\n",
    "matplotlib.pyplot.show()\n",
    "```"
   ]
  },
  {
   "cell_type": "markdown",
   "metadata": {},
   "source": [
    "The maximum value rises and falls smoothly, while the minimum seems to be a step function. Neither trend seems particularly likely, so either there's a mistake in our calculations or something is wrong with our data. This insight would have been difficult to reach by examining the numbers themselves without visualisation tools."
   ]
  },
  {
   "cell_type": "markdown",
   "metadata": {},
   "source": [
    "### Grouping plots\n",
    "\n",
    "You can group similar plots in a single figure using subplots. This script below uses a number of new commands. The function `matplotlib.pyplot.figure()` creates a space into which we will place all of our plots. The parameter `figsize` tells Python how big to make this space. \n",
    "\n",
    "Each subplot is placed into the figure using its `add_subplot` method. The `add_subplot` method takes 3 parameters. The first denotes how many total rows of subplots there are, the second parameter refers to the total number of subplot columns, and the final parameter denotes which subplot your variable is referencing (left-to-right, top-to-bottom). Each subplot is stored in a different variable (`axes1`, `axes2`, `axes3`). \n",
    "\n",
    "Once a subplot is created, the axes can be labelled using the `set_xlabel()` command (or `set_ylabel()`). Here are our three plots side by side:\n"
   ]
  },
  {
   "cell_type": "code",
   "execution_count": 20,
   "metadata": {},
   "outputs": [
    {
     "data": {
      "image/png": "[encoded data removed]",
      "text/plain": [
       "<Figure size 1080x360 with 3 Axes>"
      ]
     },
     "metadata": {
      "needs_background": "light"
     },
     "output_type": "display_data"
    }
   ],
   "source": [
    "import numpy\n",
    "import matplotlib.pyplot\n",
    "\n",
    "data = numpy.loadtxt(fname='data/inflammation-01.csv', delimiter=',')\n",
    "\n",
    "fig = matplotlib.pyplot.figure(figsize=(15.0, 5.0))\n",
    "\n",
    "axes1 = fig.add_subplot(1, 3, 1)\n",
    "axes2 = fig.add_subplot(1, 3, 2)\n",
    "axes3 = fig.add_subplot(1, 3, 3)\n",
    "\n",
    "axes1.set_ylabel('average')\n",
    "plot = axes1.plot(numpy.mean(data, axis=0))\n",
    "\n",
    "axes2.set_ylabel('max')\n",
    "plot = axes2.plot(numpy.max(data, axis=0))\n",
    "\n",
    "\n",
    "axes3.set_ylabel('min')\n",
    "plot = axes3.plot(numpy.min(data, axis=0))\n",
    "\n",
    "\n",
    "fig.tight_layout()\n"
   ]
  },
  {
   "cell_type": "markdown",
   "metadata": {},
   "source": [
    "##### The Previous Plots as Subplots\n",
    "\n",
    "The call to `loadtxt` reads our data, and the rest of the program tells the plotting library how large we want the figure to be, that we're creating three subplots, what to draw for each one, and that we want a tight layout. (If we leave out that call to `fig.tight_layout()`, the graphs will actually be squeezed together more closely.)"
   ]
  },
  {
   "cell_type": "markdown",
   "metadata": {},
   "source": [
    "Exercise: See if you can add the label `Days` to the X-Axis of each subplot"
   ]
  },
  {
   "cell_type": "code",
   "execution_count": 22,
   "metadata": {},
   "outputs": [
    {
     "data": {
      "image/png": "[encoded data removed]",
      "text/plain": [
       "<Figure size 1080x360 with 3 Axes>"
      ]
     },
     "metadata": {
      "needs_background": "light"
     },
     "output_type": "display_data"
    }
   ],
   "source": [
    "import numpy\n",
    "import matplotlib.pyplot\n",
    "\n",
    "data = numpy.loadtxt(fname='data/inflammation-01.csv', delimiter=',')\n",
    "\n",
    "fig = matplotlib.pyplot.figure(figsize=(15.0, 5.0))\n",
    "\n",
    "axes1 = fig.add_subplot(1, 3, 1)\n",
    "axes2 = fig.add_subplot(1, 3, 2)\n",
    "axes3 = fig.add_subplot(1, 3, 3)\n",
    "\n",
    "axes1.set_ylabel('average')\n",
    "axes1.set_xlabel('days')\n",
    "plot = axes1.plot(numpy.mean(data, axis=0))\n",
    "\n",
    "axes2.set_ylabel('max')\n",
    "axes2.set_xlabel('days')\n",
    "plot = axes2.plot(numpy.max(data, axis=0))\n",
    "\n",
    "\n",
    "axes3.set_ylabel('min')\n",
    "axes3.set_xlabel('days')\n",
    "plot = axes3.plot(numpy.min(data, axis=0))\n",
    "\n",
    "\n",
    "fig.tight_layout()"
   ]
  },
  {
   "cell_type": "markdown",
   "metadata": {},
   "source": [
    "##### Scientists Dislike Typing. \n",
    "We will always use the syntax `import numpy` to import NumPy. However, in order to save typing, it is often suggested to make a shortcut like so: `import numpy as np`. If you ever see Python code online using a NumPy function with np (for example, `np.loadtxt(...))`, it's because they've used this shortcut. When working with other people, it is important to agree on a convention of how common libraries are imported.\n",
    "\n",
    "In other words:\n",
    "\n",
    "```\n",
    "import numpy\n",
    "numpy.random.rand()\n",
    "```\n",
    "\n",
    "is the same as:\n",
    "\n",
    "```\n",
    "import numpy as np\n",
    "np.random.rand()\n",
    "```\n"
   ]
  },
  {
   "cell_type": "markdown",
   "metadata": {},
   "source": [
    "## Exercises"
   ]
  },
  {
   "cell_type": "markdown",
   "metadata": {},
   "source": [
    "### Plot Scaling\n",
    "Why do all of our plots stop just short of the upper end of our graph?"
   ]
  },
  {
   "cell_type": "markdown",
   "metadata": {},
   "source": [
    "Solution:"
   ]
  },
  {
   "cell_type": "markdown",
   "metadata": {},
   "source": [
    "Because matplotlib normally sets x and y axes limits to the min and max of our data (depending on data range)"
   ]
  },
  {
   "cell_type": "markdown",
   "metadata": {},
   "source": [
    "If we want to change this, we can use the `set_ylim(min, max)` method of each ‘axes’, for example:\n",
    "```\n",
    "axes3.set_ylim(0,6)\n",
    "```\n",
    "Update your plotting code to automatically set a more appropriate scale. (Hint: you can make use of the max and min methods to help.)"
   ]
  },
  {
   "cell_type": "code",
   "execution_count": 2,
   "metadata": {},
   "outputs": [
    {
     "data": {
      "image/png": "[encoded data removed]",
      "text/plain": [
       "<Figure size 1080x360 with 3 Axes>"
      ]
     },
     "metadata": {
      "needs_background": "light"
     },
     "output_type": "display_data"
    }
   ],
   "source": [
    "import numpy\n",
    "import matplotlib.pyplot\n",
    "\n",
    "data = numpy.loadtxt(fname='data/inflammation-01.csv', delimiter=',')\n",
    "\n",
    "fig = matplotlib.pyplot.figure(figsize=(15.0, 5.0))\n",
    "\n",
    "axes1 = fig.add_subplot(1, 3, 1)\n",
    "axes2 = fig.add_subplot(1, 3, 2)\n",
    "axes3 = fig.add_subplot(1, 3, 3)\n",
    "\n",
    "axes1.set_ylabel('average')\n",
    "axes1.set_xlabel('days')\n",
    "plot = axes1.plot(numpy.mean(data, axis=0))\n",
    "\n",
    "axes2.set_ylabel('max')\n",
    "axes2.set_xlabel('days')\n",
    "plot = axes2.plot(numpy.max(data, axis=0))\n",
    "\n",
    "\n",
    "# One method\n",
    "axes3.set_ylabel('min')\n",
    "axes3.set_xlabel('days')\n",
    "axes3.set_ylim(0,6)\n",
    "\n",
    "# A more automated approach\n",
    "min_data = numpy.min(data, axis=0)\n",
    "axes3.set_ylabel('min')\n",
    "axes3.set_xlabel('days')\n",
    "axes3.set_ylim(numpy.min(min_data), numpy.max(min_data) * 1.1)\n",
    "\n",
    "plot = axes3.plot(numpy.min(data, axis=0))\n",
    "\n",
    "fig.tight_layout()"
   ]
  },
  {
   "cell_type": "markdown",
   "metadata": {},
   "source": [
    "### Drawing Straight Lines\n",
    "In the centre and right subplots above, we expect all lines to look like step functions because non-integer value are not realistic for the minimum and maximum values. However, you can see that the lines are not always vertical or horizontal, and in particular the step function in the subplot on the right looks slanted. Why is this?\n",
    "\n",
    "Try adding a `drawstyle` parameter to your plotting:\n",
    "```python\n",
    "axes2.set_ylabel('average')\n",
    "axes2.plot(numpy.mean(data, axis=0), drawstyle='steps-mid')\n",
    "```"
   ]
  },
  {
   "cell_type": "markdown",
   "metadata": {},
   "source": [
    "Solution:"
   ]
  },
  {
   "cell_type": "code",
   "execution_count": 11,
   "metadata": {},
   "outputs": [
    {
     "data": {
      "image/png": "[encoded data removed]",
      "text/plain": [
       "<Figure size 1080x360 with 3 Axes>"
      ]
     },
     "metadata": {
      "needs_background": "light"
     },
     "output_type": "display_data"
    }
   ],
   "source": [
    "import numpy\n",
    "import matplotlib.pyplot\n",
    "\n",
    "data = numpy.loadtxt(fname='data/inflammation-01.csv', delimiter=',')\n",
    "\n",
    "fig = matplotlib.pyplot.figure(figsize=(15.0, 5.0))\n",
    "\n",
    "axes1 = fig.add_subplot(1, 3, 1)\n",
    "axes2 = fig.add_subplot(1, 3, 2)\n",
    "axes3 = fig.add_subplot(1, 3, 3)\n",
    "\n",
    "axes1.set_ylabel('average')\n",
    "axes1.plot(numpy.mean(data, axis=0), drawstyle='steps-mid')\n",
    "\n",
    "axes2.set_ylabel('max')\n",
    "axes2.plot(numpy.max(data, axis=0), drawstyle='steps-mid')\n",
    "\n",
    "axes3.set_ylabel('min')\n",
    "axes3.plot(numpy.min(data, axis=0), drawstyle='steps-mid')\n",
    "\n",
    "fig.tight_layout()\n",
    "\n",
    "matplotlib.pyplot.show()"
   ]
  },
  {
   "cell_type": "code",
   "execution_count": 5,
   "metadata": {},
   "outputs": [
    {
     "data": {
      "image/png": "[encoded data removed]",
      "text/plain": [
       "<Figure size 432x288 with 1 Axes>"
      ]
     },
     "metadata": {
      "needs_background": "light"
     },
     "output_type": "display_data"
    }
   ],
   "source": [
    "min_plot = matplotlib.pyplot.plot(numpy.min(data, axis=0), marker='^')\n",
    "matplotlib.pyplot.show()"
   ]
  },
  {
   "cell_type": "code",
   "execution_count": 6,
   "metadata": {},
   "outputs": [
    {
     "data": {
      "image/png": "[encoded data removed]",
      "text/plain": [
       "<Figure size 432x288 with 1 Axes>"
      ]
     },
     "metadata": {
      "needs_background": "light"
     },
     "output_type": "display_data"
    }
   ],
   "source": [
    "min_plot = matplotlib.pyplot.plot(numpy.min(data, axis=0), drawstyle='steps-mid', marker='.')\n",
    "matplotlib.pyplot.show()"
   ]
  },
  {
   "cell_type": "markdown",
   "metadata": {},
   "source": [
    "### Make Your Own Plot\n",
    "Create a plot showing the standard deviation (using `numpy.std`) of the inflammation data for each day across all patients."
   ]
  },
  {
   "cell_type": "code",
   "execution_count": 7,
   "metadata": {},
   "outputs": [
    {
     "data": {
      "image/png": "[encoded data removed]",
      "text/plain": [
       "<Figure size 432x288 with 1 Axes>"
      ]
     },
     "metadata": {
      "needs_background": "light"
     },
     "output_type": "display_data"
    }
   ],
   "source": [
    "std_plot = matplotlib.pyplot.plot(numpy.std(data, axis=0))\n",
    "matplotlib.pyplot.show()"
   ]
  },
  {
   "cell_type": "markdown",
   "metadata": {},
   "source": [
    "### Moving Plots Around\n",
    "Modify the program to display the three plots vertically rather than side by side."
   ]
  },
  {
   "cell_type": "code",
   "execution_count": 12,
   "metadata": {},
   "outputs": [
    {
     "data": {
      "image/png": "[encoded data removed]",
      "text/plain": [
       "<Figure size 360x1080 with 3 Axes>"
      ]
     },
     "metadata": {
      "needs_background": "light"
     },
     "output_type": "display_data"
    }
   ],
   "source": [
    "import numpy\n",
    "import matplotlib.pyplot\n",
    "\n",
    "data = numpy.loadtxt(fname='data/inflammation-01.csv', delimiter=',')\n",
    "\n",
    "# change figsize (swap width and height)\n",
    "fig = matplotlib.pyplot.figure(figsize=(5.0, 15.0))\n",
    "\n",
    "# change add_subplot (swap first two parameters)\n",
    "axes1 = fig.add_subplot(3, 1, 1)\n",
    "axes2 = fig.add_subplot(3, 1, 2)\n",
    "axes3 = fig.add_subplot(3, 1, 3)\n",
    "\n",
    "axes1.set_ylabel('average')\n",
    "axes1.plot(numpy.mean(data, axis=0))\n",
    "\n",
    "axes2.set_ylabel('max')\n",
    "axes2.plot(numpy.max(data, axis=0))\n",
    "\n",
    "axes3.set_ylabel('min')\n",
    "axes3.plot(numpy.min(data, axis=0))\n",
    "\n",
    "fig.tight_layout()\n",
    "\n",
    "matplotlib.pyplot.show()"
   ]
  },
  {
   "cell_type": "markdown",
   "metadata": {},
   "source": [
    "### Stacking Arrays\n",
    "Arrays can be concatenated and stacked on top of one another, using NumPy’s `vstack` and `hstack` functions for vertical and horizontal stacking, respectively.\n",
    "\n",
    "Run the following code to view `A`, `B` and `C`\n"
   ]
  },
  {
   "cell_type": "code",
   "execution_count": 14,
   "metadata": {},
   "outputs": [
    {
     "name": "stdout",
     "output_type": "stream",
     "text": [
      "A = \n",
      "[[1 2 3]\n",
      " [4 5 6]\n",
      " [7 8 9]]\n",
      "B = \n",
      "[[1 2 3 1 2 3]\n",
      " [4 5 6 4 5 6]\n",
      " [7 8 9 7 8 9]]\n",
      "C = \n",
      "[[1 2 3]\n",
      " [4 5 6]\n",
      " [7 8 9]\n",
      " [1 2 3]\n",
      " [4 5 6]\n",
      " [7 8 9]]\n"
     ]
    }
   ],
   "source": [
    "import numpy\n",
    "\n",
    "A = numpy.array([[1,2,3], [4,5,6], [7, 8, 9]])\n",
    "print('A = ')\n",
    "print(A)\n",
    "\n",
    "B = numpy.hstack([A, A])\n",
    "print('B = ')\n",
    "print(B)\n",
    "\n",
    "C = numpy.vstack([A, A])\n",
    "print('C = ')\n",
    "print(C)"
   ]
  },
  {
   "cell_type": "markdown",
   "metadata": {},
   "source": [
    "Write some additional code that slices the first and last columns of `A`,\n",
    "and stacks them into a 3x2 array. Make sure to print the results to verify your solution."
   ]
  },
  {
   "cell_type": "code",
   "execution_count": 16,
   "metadata": {},
   "outputs": [
    {
     "name": "stdout",
     "output_type": "stream",
     "text": [
      "D = \n",
      "[[1 3]\n",
      " [4 6]\n",
      " [7 9]]\n",
      "D = \n",
      "[[1 3]\n",
      " [4 6]\n",
      " [7 9]]\n"
     ]
    }
   ],
   "source": [
    "D = numpy.hstack((A[:, :1], A[:, -1:]))\n",
    "print('D = ')\n",
    "print(D)\n",
    "\n",
    "# An alternative way to achieve the same result is to use Numpy’s delete function to remove the second column of A.\n",
    "D = numpy.delete(A, 1, 1)\n",
    "print('D = ')\n",
    "print(D)"
   ]
  },
  {
   "cell_type": "markdown",
   "metadata": {},
   "source": [
    "### Change In Inflammation\n",
    "This patient data is longitudinal in the sense that each row represents a series of observations relating to one individual. This means that the change in inflammation over time is a meaningful concept.\n",
    "\n",
    "The `numpy.diff()` function takes a NumPy array and returns the differences between two successive values along a specified axis. For example, with the following `numpy.array`:\n",
    "\n",
    "```\n",
    "npdiff = numpy.array([ 0,  2,  5,  9, 14])\n",
    "```\n",
    "\n",
    "Calling `numpy.diff(npdiff)` would do the following calculations \n",
    "\n",
    "`2 - 0`, `5 - 2`, `9 - 5`, `14 - 9`\n",
    "\n",
    "and produce the following array.\n",
    "\n",
    "`[2, 3, 4, 5]`"
   ]
  },
  {
   "cell_type": "code",
   "execution_count": null,
   "metadata": {},
   "outputs": [],
   "source": [
    "npdiff = numpy.array([ 0,  2,  5,  9, 14])\n",
    "numpy.diff(npdiff)"
   ]
  },
  {
   "cell_type": "markdown",
   "metadata": {},
   "source": [
    "In our `data` Which axis would it make sense to use this function along?"
   ]
  },
  {
   "cell_type": "code",
   "execution_count": 18,
   "metadata": {},
   "outputs": [
    {
     "data": {
      "text/plain": [
       "array([[ 0.,  1.,  2., ...,  1., -3.,  0.],\n",
       "       [ 1.,  1., -1., ...,  0., -1.,  1.],\n",
       "       [ 1.,  0.,  2., ...,  0., -1.,  0.],\n",
       "       ...,\n",
       "       [ 1.,  0.,  0., ..., -1.,  0.,  0.],\n",
       "       [ 0.,  0.,  1., ..., -2.,  2., -2.],\n",
       "       [ 0.,  1., -1., ..., -2.,  0., -1.]])"
      ]
     },
     "execution_count": 18,
     "metadata": {},
     "output_type": "execute_result"
    }
   ],
   "source": [
    "# Since the row axis (0) is patients, it does not make sense to get the difference between two arbitrary patients. \n",
    "# The column axis (1) is in days, so the difference is the change in inflammation – a meaningful concept.\n",
    "numpy.diff(data, axis=1)"
   ]
  },
  {
   "cell_type": "markdown",
   "metadata": {},
   "source": [
    "Solution"
   ]
  },
  {
   "cell_type": "markdown",
   "metadata": {},
   "source": [
    "If the shape of an individual data file is (60, 40) (60 rows and 40 columns), what would the shape of the array be after you run the diff() function and why?"
   ]
  },
  {
   "cell_type": "markdown",
   "metadata": {},
   "source": [
    "The shape will be (60, 39) because there is one fewer difference between columns than there are columns in the data."
   ]
  },
  {
   "cell_type": "markdown",
   "metadata": {},
   "source": [
    "Solution"
   ]
  },
  {
   "cell_type": "markdown",
   "metadata": {},
   "source": [
    "How would you find the largest change in inflammation for each patient? Does it matter if the change in inflammation is an increase or a decrease?  Hint: NumPy has a function called `numpy.absolute()`,"
   ]
  },
  {
   "cell_type": "code",
   "execution_count": 19,
   "metadata": {},
   "outputs": [
    {
     "data": {
      "text/plain": [
       "array([12., 14., 11., 13., 11., 13., 10., 12., 10., 10., 10., 12., 13.,\n",
       "       10., 11., 10., 12., 13.,  9., 10., 13.,  9., 12.,  9., 12., 11.,\n",
       "       10., 13.,  9., 13., 11., 11.,  8., 11., 12., 13.,  9., 10., 13.,\n",
       "       11., 11., 13., 11., 13., 13., 10.,  9., 10., 10.,  9.,  9., 13.,\n",
       "       10.,  9., 10., 11., 13., 10., 10., 12.])"
      ]
     },
     "execution_count": 19,
     "metadata": {},
     "output_type": "execute_result"
    }
   ],
   "source": [
    "numpy.max(numpy.diff(data, axis=1), axis=1)\n",
    "numpy.max(numpy.absolute(numpy.diff(data, axis=1)), axis=1)"
   ]
  },
  {
   "cell_type": "markdown",
   "metadata": {},
   "source": [
    "Solution:"
   ]
  },
  {
   "cell_type": "markdown",
   "metadata": {},
   "source": [
    "## Key Points\n",
    "Use `numpy.mean(array)`, `numpy.max(array)`, and `numpy.min(array)` to calculate simple statistics.\n",
    "\n",
    "Use `numpy.mean(array, axis=0)` or `numpy.mean(array, axis=1)` to calculate statistics across the specified axis.\n",
    "\n",
    "Use the `pyplot` library from `matplotlib` for creating simple visualizations."
   ]
  },
  {
   "cell_type": "markdown",
   "metadata": {},
   "source": [
    "# Save, and version control your changes\n",
    "\n",
    "- save your work: `File -> Save`\n",
    "- add all your changes to your local repository: `Terminal -> git add .`\n",
    "- commit your updates a new Git version:  `Terminal -> git commit -m \"End of Episode 1b\"`\n",
    "- push your latest commits to GitHub: `Terminal -> git push`"
   ]
  }
 ],
 "metadata": {
  "kernelspec": {
   "display_name": "Python 3",
   "language": "python",
   "name": "python3"
  },
  "language_info": {
   "codemirror_mode": {
    "name": "ipython",
    "version": 3
   },
   "file_extension": ".py",
   "mimetype": "text/x-python",
   "name": "python",
   "nbconvert_exporter": "python",
   "pygments_lexer": "ipython3",
   "version": "3.7.8"
  }
 },
 "nbformat": 4,
 "nbformat_minor": 4
}
