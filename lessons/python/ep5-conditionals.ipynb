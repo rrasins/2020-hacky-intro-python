{
 "cells": [
  {
   "cell_type": "markdown",
   "metadata": {},
   "source": [
    "# Programming with Python\n",
    "\n",
    "## Episode 5 - Making Choices\n",
    "\n",
    "Teaching: 30 min, \n",
    "Exercises: 30 min \n"
   ]
  },
  {
   "cell_type": "markdown",
   "metadata": {},
   "source": [
    "## Objectives\n",
    "- Write conditional statements including if, elif, and else branches.\n",
    "- Correctly evaluate expressions containing and and or."
   ]
  },
  {
   "cell_type": "markdown",
   "metadata": {},
   "source": [
    "### How can my programs do different things based on data values?\n",
    "\n",
    "In our last lesson, we discovered something suspicious was going on in our inflammation data by drawing some plots. \n",
    "How can we use Python to automatically recognise the different features we saw, and take a different action for each? \n",
    "\n",
    "In this lesson, we'll learn how to write code that runs only when certain conditions are true."
   ]
  },
  {
   "cell_type": "markdown",
   "metadata": {},
   "source": [
    "### Conditionals\n",
    "We can ask Python to take different actions, depending on a condition, with an `if` statement:\n",
    "```\n",
    "num = 37\n",
    "if num > 100:\n",
    "    print('greater')\n",
    "else:\n",
    "    print('not greater')\n",
    "print('done')\n",
    "```"
   ]
  },
  {
   "cell_type": "code",
   "execution_count": 1,
   "metadata": {},
   "outputs": [
    {
     "name": "stdout",
     "output_type": "stream",
     "text": [
      "not greater\n",
      "done\n"
     ]
    }
   ],
   "source": [
    "num = 37\n",
    "if num > 100:\n",
    "    print('greater')\n",
    "else:\n",
    "    print('not greater')\n",
    "print('done')"
   ]
  },
  {
   "cell_type": "markdown",
   "metadata": {},
   "source": [
    "The second line of this code uses the keyword `if` to tell Python that we want to make a choice. \n",
    "\n",
    "If the test (condition) that follows the `if` statement is *true*, the body of the `if` (i.e., the lines indented underneath it) are executed. If the test is *false*, the body of the `else` is executed instead. \n",
    "\n",
    "Only one or the other is ever executed."
   ]
  },
  {
   "cell_type": "markdown",
   "metadata": {},
   "source": [
    "### Executing a Conditional\n",
    "\n",
    "`if` statements don't have to include an `else` if it is not required. If there isn't one, Python simply does nothing if the test is *false*:\n",
    "```\n",
    "num = 53\n",
    "print('before conditional...')\n",
    "if num > 100:\n",
    "    print(num,' is greater than 100')\n",
    "print('...after conditional')\n",
    "```"
   ]
  },
  {
   "cell_type": "code",
   "execution_count": 2,
   "metadata": {},
   "outputs": [
    {
     "name": "stdout",
     "output_type": "stream",
     "text": [
      "before conditional...\n",
      "...after conditional\n"
     ]
    }
   ],
   "source": [
    "num = 53\n",
    "print('before conditional...')\n",
    "if num > 100:\n",
    "    print(num, ' is greater than 100')\n",
    "print('...after conditional')"
   ]
  },
  {
   "cell_type": "markdown",
   "metadata": {},
   "source": [
    "We can also chain several tests together using `elif`, which is short for \"else if\". \n",
    "\n",
    "The following Python code uses `elif` to print the sign (positive or negative) of a number.\n",
    "\n",
    "```\n",
    "num = -3\n",
    "\n",
    "if num > 0:\n",
    "    print(num, 'is positive')\n",
    "elif num == 0:\n",
    "    print(num, 'is zero')\n",
    "else:\n",
    "    print(num, 'is negative')\n",
    "```\n",
    "Note that to test for *equality* we use a double equals sign ``==`` rather than a single equals sign `=` which is used to assign values."
   ]
  },
  {
   "cell_type": "code",
   "execution_count": 3,
   "metadata": {},
   "outputs": [
    {
     "name": "stdout",
     "output_type": "stream",
     "text": [
      "-3 is negative\n"
     ]
    }
   ],
   "source": [
    "num = -3\n",
    "if num > 0:\n",
    "    print(num, 'is positive')\n",
    "elif num == 0:\n",
    "    print(num, 'is zero')\n",
    "else:\n",
    "    print(num, 'is negative')"
   ]
  },
  {
   "cell_type": "markdown",
   "metadata": {},
   "source": [
    "### `and`'s and `or`'s\n",
    "\n",
    "We can also combine tests using `and` and `or`. \n",
    "\n",
    "`and` is only *true* if both parts are *true*:\n",
    "\n",
    "```\n",
    "if (1 > 0) and (-1 > 0):\n",
    "    print('both parts are true')\n",
    "else:\n",
    "    print('at least one part is false')\n",
    "```"
   ]
  },
  {
   "cell_type": "code",
   "execution_count": 4,
   "metadata": {},
   "outputs": [
    {
     "name": "stdout",
     "output_type": "stream",
     "text": [
      "at least one part is false\n"
     ]
    }
   ],
   "source": [
    "if (1 > 0) and (-1 > 0):\n",
    "    print('both parts are true')\n",
    "else:\n",
    "    print('at least one part is false')"
   ]
  },
  {
   "cell_type": "markdown",
   "metadata": {},
   "source": [
    "while `or` is true if at least one part is true:\n",
    "```\n",
    "if (1 < 0) or (-1 < 0):\n",
    "    print('at least one test is true')\n",
    "```"
   ]
  },
  {
   "cell_type": "code",
   "execution_count": 5,
   "metadata": {},
   "outputs": [
    {
     "name": "stdout",
     "output_type": "stream",
     "text": [
      "at least one test is true\n"
     ]
    }
   ],
   "source": [
    "if (1 < 0) or (-1 < 0):\n",
    "    print('at least one test is true')"
   ]
  },
  {
   "cell_type": "markdown",
   "metadata": {},
   "source": [
    "### `True` and `False`\n",
    "\n",
    "`True` and `False` are special words (keywords) in Python called *booleans*, which represent truth values. A statement such as `1 < 0` returns the value `False`, while `-1 < 0` returns the value `True`.   The can be used in place of conditional expressions:\n",
    "```\n",
    "print(True of False\n",
    "```"
   ]
  },
  {
   "cell_type": "code",
   "execution_count": 6,
   "metadata": {},
   "outputs": [
    {
     "name": "stdout",
     "output_type": "stream",
     "text": [
      "False\n"
     ]
    }
   ],
   "source": [
    "print((1 < 0) and (-1 < 0))"
   ]
  },
  {
   "cell_type": "markdown",
   "metadata": {},
   "source": [
    "### Checking our Data\n",
    "Now that we've seen how conditionals work, we can use them to check for the suspicious features we saw in our inflammation data.\n",
    "\n",
    "Let's get back to where we left off in a previous episode:\n",
    "\n",
    "```\n",
    "import numpy\n",
    "import matplotlib.pyplot\n",
    "\n",
    "data = numpy.loadtxt(fname='data/inflammation-03.csv', delimiter=',')\n",
    "min_plot = matplotlib.pyplot.plot(numpy.max(data, axis=0))\n",
    "matplotlib.pyplot.show()\n",
    "```"
   ]
  },
  {
   "cell_type": "code",
   "execution_count": 2,
   "metadata": {},
   "outputs": [
    {
     "data": {
      "image/png": "[encoded data removed]",
      "text/plain": [
       "<Figure size 432x288 with 1 Axes>"
      ]
     },
     "metadata": {
      "needs_background": "light"
     },
     "output_type": "display_data"
    }
   ],
   "source": [
    "import numpy\n",
    "import matplotlib.pyplot\n",
    "\n",
    "data = numpy.loadtxt(fname='data/inflammation-01.csv', delimiter=',')\n",
    "max_plot = matplotlib.pyplot.plot(numpy.max(data, axis=0))\n",
    "matplotlib.pyplot.show()"
   ]
  },
  {
   "cell_type": "markdown",
   "metadata": {},
   "source": [
    "From the  plots, we see that maximum daily inflammation exhibits a strange behaviour and raises one unit a day. Wouldn't it be a good idea to detect such behaviour and report it as suspicious? Let's do that! \n",
    "\n",
    "However, instead of checking every single day of the study, let's merely check if maximum inflammation in the beginning (day 0) and in the middle (day 20) of the study are equal to the corresponding day numbers.\n",
    "\n",
    "First we'll get the max's for day 0 and day 20:\n",
    "```\n",
    "max_inflammation_0 = numpy.max(data, axis=0)[0]\n",
    "max_inflammation_20 = numpy.max(data, axis=0)[20]\n",
    "print(max_inflammation_0)\n",
    "print(max_inflammation_20)\n",
    "```"
   ]
  },
  {
   "cell_type": "code",
   "execution_count": 8,
   "metadata": {},
   "outputs": [
    {
     "name": "stdout",
     "output_type": "stream",
     "text": [
      "0.0\n",
      "20.0\n"
     ]
    }
   ],
   "source": [
    "max_inflammation_0 = numpy.max(data, axis=0)[0]\n",
    "max_inflammation_20 = numpy.max(data, axis=0)[20]\n",
    "print(max_inflammation_0)\n",
    "print(max_inflammation_20)"
   ]
  },
  {
   "cell_type": "markdown",
   "metadata": {},
   "source": [
    "and then we'll check them for suspicious values:\n",
    "```\n",
    "if max_inflammation_0 == 0 and max_inflammation_20 == 20:\n",
    "    print('Suspicious looking maxima!')\n",
    "```\n",
    "\n",
    "Note, we can add parentheses `( )` to improve clarity (and order of evaluation)"
   ]
  },
  {
   "cell_type": "code",
   "execution_count": 9,
   "metadata": {},
   "outputs": [
    {
     "name": "stdout",
     "output_type": "stream",
     "text": [
      "Suspicious looking maxima!\n"
     ]
    }
   ],
   "source": [
    "if max_inflammation_0 == 0 and max_inflammation_20 == 20:\n",
    "    print('Suspicious looking maxima!')"
   ]
  },
  {
   "cell_type": "markdown",
   "metadata": {},
   "source": [
    "We also saw a different problem in the third dataset; the minima per day were all zero (looks like a healthy person snuck into our study).\n",
    "```\n",
    "data = numpy.loadtxt(fname='data/inflammation-03.csv', delimiter=',')\n",
    "min_plot = matplotlib.pyplot.plot(numpy.min(data, axis=0))\n",
    "matplotlib.pyplot.show()\n",
    "```"
   ]
  },
  {
   "cell_type": "markdown",
   "metadata": {},
   "source": [
    "Let's have quick look at the all the `inflammation-03.csv` data set to confirm our suspicions\n",
    "```\n",
    "matplotlib.pyplot.imshow(data)\n",
    "```\n",
    "and look closely at the last row."
   ]
  },
  {
   "cell_type": "code",
   "execution_count": 10,
   "metadata": {},
   "outputs": [
    {
     "data": {
      "image/png": "[encoded data removed]",
      "text/plain": [
       "<Figure size 432x288 with 1 Axes>"
      ]
     },
     "metadata": {
      "needs_background": "light"
     },
     "output_type": "display_data"
    }
   ],
   "source": [
    "data = numpy.loadtxt(fname='data/inflammation-03.csv', delimiter=',')\n",
    "min_plot = matplotlib.pyplot.plot(numpy.min(data, axis=0))\n",
    "matplotlib.pyplot.show()"
   ]
  },
  {
   "cell_type": "markdown",
   "metadata": {},
   "source": [
    "We can also get python to check for this condition by summing all the minima and testing the result:\n",
    "```\n",
    "if numpy.sum(numpy.min(data, axis=0)) == 0:\n",
    "    print('Minima add up to zero!')\n",
    "```\n",
    "\n",
    "this will become an `elif` in our script."
   ]
  },
  {
   "cell_type": "code",
   "execution_count": 14,
   "metadata": {},
   "outputs": [
    {
     "name": "stdout",
     "output_type": "stream",
     "text": [
      "Minima add up to zero!\n"
     ]
    }
   ],
   "source": [
    "if numpy.sum(numpy.min(data, axis=0)) == 0:\n",
    "    print('Minima add up to zero!')"
   ]
  },
  {
   "cell_type": "markdown",
   "metadata": {},
   "source": [
    "And if neither of these conditions are true, we can use an `else` statement to give the all-clear\n",
    "\n",
    "So let's combine all these tests into a single script:\n",
    "```\n",
    "data = numpy.loadtxt(fname='data/inflammation-01.csv', delimiter=',')\n",
    "\n",
    "max_inflammation_0 = numpy.max(data, axis=0)[0]\n",
    "max_inflammation_20 = numpy.max(data, axis=0)[20]\n",
    "\n",
    "if max_inflammation_0 == 0 and max_inflammation_20 == 20:\n",
    "    print('Suspicious looking maxima!')\n",
    "elif numpy.sum(numpy.min(data, axis=0)) == 0:\n",
    "    print('Minima add up to zero!')\n",
    "else:\n",
    "    print('Seems OK!')\n",
    "```\n",
    "\n",
    "give it a go with a selection of data files (eg, `inflammation-01.csv`, `inflammation-03.csv`)"
   ]
  },
  {
   "cell_type": "code",
   "execution_count": 3,
   "metadata": {},
   "outputs": [
    {
     "name": "stdout",
     "output_type": "stream",
     "text": [
      "Suspicious looking maxima!\n"
     ]
    }
   ],
   "source": [
    "data = numpy.loadtxt(fname='data/inflammation-01.csv', delimiter=',')\n",
    "\n",
    "max_inflammation_0 = numpy.max(data, axis=0)[0]\n",
    "max_inflammation_20 = numpy.max(data, axis=0)[20]\n",
    "\n",
    "if max_inflammation_0 == 0 and max_inflammation_20 == 20:\n",
    "    print('Suspicious looking maxima!')\n",
    "elif numpy.sum(numpy.min(data, axis=0)) == 0:\n",
    "    print('Minima add up to zero!')\n",
    "else:\n",
    "    print('Seems OK!')"
   ]
  },
  {
   "cell_type": "markdown",
   "metadata": {},
   "source": [
    "### Minima add up to zero!\n",
    "In this script, we have asked Python to do something different depending on the condition of our data. Here we printed messages in all cases, but we could also imagine not using the else catch-all so that messages are only printed when something is wrong, freeing us from having to manually examine every plot for features we've seen before."
   ]
  },
  {
   "cell_type": "markdown",
   "metadata": {},
   "source": [
    "## Exercises"
   ]
  },
  {
   "cell_type": "markdown",
   "metadata": {},
   "source": [
    "#### How Many Paths?\n",
    "Consider this code:\n",
    "```\n",
    "if 4 > 5:\n",
    "    print('A')\n",
    "elif 4 == 5:\n",
    "    print('B')\n",
    "elif 4 < 5:\n",
    "    print('C')\n",
    "```\n",
    "Which of the following would be printed if you were to run this code? Why did you pick this answer?\n",
    "```\n",
    "A\n",
    "B\n",
    "C\n",
    "B and C\n",
    "```"
   ]
  },
  {
   "cell_type": "markdown",
   "metadata": {},
   "source": [
    "Solution:"
   ]
  },
  {
   "cell_type": "code",
   "execution_count": 12,
   "metadata": {},
   "outputs": [
    {
     "name": "stdout",
     "output_type": "stream",
     "text": [
      "C\n"
     ]
    }
   ],
   "source": [
    "if 4 > 5:\n",
    "    print('A')\n",
    "elif 4 == 5:\n",
    "    print('B')\n",
    "elif 4 < 5:\n",
    "    print('C')"
   ]
  },
  {
   "cell_type": "markdown",
   "metadata": {},
   "source": [
    "### What Is Truth?\n",
    "\n",
    "`True` and `False` booleans are not the only values in Python that are *true* and *false*. \n",
    "\n",
    "In fact, any value can be used in an `if` or `elif`. After reading and running the code below, explain what the rule is for which values are considered true and which are considered false.\n",
    "\n",
    "```\n",
    "if True:\n",
    "    print('True is true - not very surprising')\n",
    "if '':\n",
    "    print('empty string is true')\n",
    "if 'word':\n",
    "    print('word is true')\n",
    "if []:\n",
    "    print('empty list is true')\n",
    "if [1, 2, 3]:\n",
    "    print('non-empty list is true')\n",
    "if 0:\n",
    "    print('zero is true')\n",
    "if 1:\n",
    "    print('one is true')\n",
    "```"
   ]
  },
  {
   "cell_type": "markdown",
   "metadata": {},
   "source": [
    "Solution:"
   ]
  },
  {
   "cell_type": "code",
   "execution_count": 1,
   "metadata": {},
   "outputs": [
    {
     "name": "stdout",
     "output_type": "stream",
     "text": [
      "True is true - not very surprising\n",
      "word is true\n",
      "non-empty list is true\n",
      "one is true\n"
     ]
    }
   ],
   "source": [
    "if True:\n",
    "    print('True is true - not very surprising')\n",
    "if '':\n",
    "    print('empty string is true')\n",
    "if 'word':\n",
    "    print('word is true')\n",
    "if []:\n",
    "    print('empty list is true')\n",
    "if [1, 2, 3]:\n",
    "    print('non-empty list is true')\n",
    "if 0:\n",
    "    print('zero is true')\n",
    "if 1:\n",
    "    print('one is true')"
   ]
  },
  {
   "cell_type": "markdown",
   "metadata": {},
   "source": [
    "### That's Not Not What I Meant\n",
    "Sometimes it is useful to check whether some condition is *not true*. The boolean operator `not` can do this explicitly. \n",
    "\n",
    "After reading and running the code below, write some `if` statements that use `not` to test the rule that you formulated in the previous challenge.\n",
    "```\n",
    "if not '':\n",
    "    print('empty string is not true')\n",
    "if not 'word':\n",
    "    print('word is not true')\n",
    "if not not True:\n",
    "    print('not not True is true')\n",
    "```"
   ]
  },
  {
   "cell_type": "markdown",
   "metadata": {},
   "source": [
    "Solution:"
   ]
  },
  {
   "cell_type": "code",
   "execution_count": 2,
   "metadata": {},
   "outputs": [
    {
     "name": "stdout",
     "output_type": "stream",
     "text": [
      "empty string is not true\n",
      "not not True is true\n"
     ]
    }
   ],
   "source": [
    "if not '':\n",
    "    print('empty string is not true')\n",
    "if not 'word':\n",
    "    print('word is not true')\n",
    "if not not True:\n",
    "    print('not not True is true')"
   ]
  },
  {
   "cell_type": "code",
   "execution_count": 7,
   "metadata": {},
   "outputs": [
    {
     "name": "stdout",
     "output_type": "stream",
     "text": [
      "False\n",
      "True\n",
      "False\n",
      "False\n"
     ]
    }
   ],
   "source": [
    "print(not not [])\n",
    "print(not 0)\n",
    "print(not 1)\n",
    "print(not 2)"
   ]
  },
  {
   "cell_type": "markdown",
   "metadata": {},
   "source": [
    "### Close Enough\n",
    "Write some conditions that print True if the variable a is within 10% of the variable b and False otherwise. \n",
    "Compare your implementation with your partner's: do you get the same answer for all possible pairs of numbers?"
   ]
  },
  {
   "cell_type": "code",
   "execution_count": 2,
   "metadata": {},
   "outputs": [
    {
     "name": "stdout",
     "output_type": "stream",
     "text": [
      "True\n"
     ]
    }
   ],
   "source": [
    "a = 5\n",
    "b = 4.5\n",
    "\n",
    "if abs(a - b) <= (0.1 * abs(a) or 0.1 * abs(b)):\n",
    "    print(True)\n",
    "else:\n",
    "    print(False)"
   ]
  },
  {
   "cell_type": "markdown",
   "metadata": {},
   "source": [
    "### In-Place Operators\n",
    "Python (and most other languages in the C family) provides in-place operators that work like this:\n",
    "```\n",
    "x = 1  # original value\n",
    "x += 1 # add one to x, assigning result back to x\n",
    "x *= 3 # multiply x by 3\n",
    "print(x)\n",
    "```\n",
    "\n",
    "Write some code that sums the positive and negative numbers in a list separately, using in-place operators. Do you think the result is more or less readable than writing the same without in-place operators?"
   ]
  },
  {
   "cell_type": "code",
   "execution_count": 3,
   "metadata": {},
   "outputs": [
    {
     "name": "stdout",
     "output_type": "stream",
     "text": [
      "6\n"
     ]
    }
   ],
   "source": [
    "x = 1\n",
    "x = x + 1\n",
    "x = x * 3\n",
    "print(x)"
   ]
  },
  {
   "cell_type": "code",
   "execution_count": 4,
   "metadata": {},
   "outputs": [
    {
     "name": "stdout",
     "output_type": "stream",
     "text": [
      "Sum of Positive numbers: 14\n",
      "Sum of Negative numbers: -7\n"
     ]
    }
   ],
   "source": [
    "positive_sum = 0\n",
    "negative_sum = 0\n",
    "numbers = [1,-2,3,4,-5,0, 6]\n",
    "for i in numbers:\n",
    "    if i > 0:\n",
    "        positive_sum += i\n",
    "#         positive_sum = positive_sum + i\n",
    "    elif i < 0:\n",
    "        negative_sum += i\n",
    "    \n",
    "    \n",
    "print('Sum of Positive numbers:', positive_sum)\n",
    "print('Sum of Negative numbers:', negative_sum)"
   ]
  },
  {
   "cell_type": "markdown",
   "metadata": {},
   "source": [
    "### Sorting a List Into Buckets\n",
    "\n",
    "In our data folder, large data sets are stored in files whose names start with \"inflammation-\" and small data sets – in files whose names start with \"small-\". We also have some other files that we do not care about at this point. We'd like to break all these files into three lists called `large_files`, `small_files`, and `other_files`, respectively.\n",
    "\n",
    "Add code to the template below to do this. Note that the string method `startswith` returns `True` if and only if the string it is called on starts with the string passed as an argument, e.g.:\n",
    "```\n",
    "print(\"String\".startswith(\"Str\"))\n",
    "print(\"String\".startswith(\"somethingelse\"))\n",
    "```\n",
    "\n",
    "note that `startswith` is case sensitive."
   ]
  },
  {
   "cell_type": "code",
   "execution_count": 8,
   "metadata": {},
   "outputs": [
    {
     "name": "stdout",
     "output_type": "stream",
     "text": [
      "True\n",
      "False\n",
      "False\n",
      "True\n"
     ]
    }
   ],
   "source": [
    "print(\"String\".startswith(\"Str\"))\n",
    "print(\"String\".startswith(\"somethingelse\"))\n",
    "print(\"something\".startswith(\"somethingelse\"))\n",
    "print(\"somethingelse\".startswith(\"something\"))"
   ]
  },
  {
   "cell_type": "markdown",
   "metadata": {},
   "source": [
    "Use the following Python code as your starting point:"
   ]
  },
  {
   "cell_type": "code",
   "execution_count": 1,
   "metadata": {},
   "outputs": [
    {
     "name": "stdout",
     "output_type": "stream",
     "text": [
      "large_files: ['inflammation-01.csv', 'inflammation-02.csv']\n",
      "small_files: ['small-01.csv', 'small-02.csv']\n",
      "other_files: ['myscript.py']\n"
     ]
    }
   ],
   "source": [
    "files = ['inflammation-01.csv',\n",
    "         'myscript.py',\n",
    "         'inflammation-02.csv',\n",
    "         'small-01.csv',\n",
    "         'small-02.csv']\n",
    "large_files = []\n",
    "small_files = []\n",
    "other_files = []\n",
    "\n",
    "# list_name.append(filename)\n",
    "\n",
    "for file in files:\n",
    "    if file.startswith(\"inflammation-\"):\n",
    "        large_files.append(file)\n",
    "    elif file.startswith(\"small-\"):\n",
    "        small_files.append(file)\n",
    "    else:\n",
    "        other_files.append(file)\n",
    "\n",
    "print('large_files:', large_files)\n",
    "print('small_files:', small_files)\n",
    "print('other_files:', other_files)"
   ]
  },
  {
   "cell_type": "markdown",
   "metadata": {},
   "source": [
    "Your solution should:\n",
    "\n",
    "- loop over the names of the files\n",
    "- figure out which group each filename belongs\n",
    "- append the filename to that list\n",
    "- In the end the three lists should be:\n",
    "```\n",
    "large_files = ['inflammation-01.csv', 'inflammation-02.csv']\n",
    "small_files = ['small-01.csv', 'small-02.csv']\n",
    "other_files = ['myscript.py']\n",
    "```"
   ]
  },
  {
   "cell_type": "markdown",
   "metadata": {},
   "source": [
    "### Counting Vowels\n",
    "Write a loop that counts the number of vowels in a character string.\n",
    "\n",
    "Test it on a few individual words and full sentences.\n",
    "\n",
    "Once you are done, compare your solution to your neighbour's. Did you make the same decisions about how to handle the letter 'y' (which some people think is a vowel, and some do not)?"
   ]
  },
  {
   "cell_type": "code",
   "execution_count": 2,
   "metadata": {},
   "outputs": [
    {
     "name": "stdout",
     "output_type": "stream",
     "text": [
      "1\n",
      "2\n",
      "3\n",
      "4\n",
      "4\n"
     ]
    }
   ],
   "source": [
    "string = 'blah'\n",
    "count = 0\n",
    "\n",
    "for char in string:\n",
    "    count = count + 1\n",
    "    print(count)\n",
    "print(count)"
   ]
  },
  {
   "cell_type": "code",
   "execution_count": 3,
   "metadata": {},
   "outputs": [
    {
     "name": "stdout",
     "output_type": "stream",
     "text": [
      "The number of vowels in this string is: 3\n"
     ]
    }
   ],
   "source": [
    "vowels = 'aeiouAEIOU'\n",
    "sentence = \"Python Is Fun!\"\n",
    "count = 0\n",
    "\n",
    "for char in sentence:\n",
    "    if char in vowels:\n",
    "        count = count + 1\n",
    "    \n",
    "print('The number of vowels in this string is:', count)"
   ]
  },
  {
   "cell_type": "markdown",
   "metadata": {},
   "source": [
    "## Key Points\n",
    "\n",
    "- Use the `if` keyword to start a conditional statement, the `elif` keyword to provide additional tests, and the `else` keyword to provide a default.\n",
    "\n",
    "- The bodies of the branches of conditional statements must be indented.\n",
    "\n",
    "- Use `==` to test for equality.\n",
    "\n",
    "- X `and` Y is only true if both X and Y are true.\n",
    "\n",
    "- X `or` Y is true if either X or Y, or both, are true.\n",
    "\n",
    "- Zero `0`, the empty string `\"\"`, and the empty list `[]` are considered false; all other numbers, strings, and lists are considered true.\n",
    "\n",
    "- `True` and `False` represent truth values."
   ]
  },
  {
   "cell_type": "markdown",
   "metadata": {},
   "source": [
    "### Save, and version control your changes\n",
    "\n",
    "- save your work: `File -> Save`\n",
    "- add all your changes to your local repository: `Terminal -> git add .`\n",
    "- commit your updates a new Git version:  `Terminal -> git commit -m \"End of Episode 5\"`\n",
    "- push your latest commits to GitHub: `Terminal -> git push`"
   ]
  }
 ],
 "metadata": {
  "kernelspec": {
   "display_name": "Python 3",
   "language": "python",
   "name": "python3"
  },
  "language_info": {
   "codemirror_mode": {
    "name": "ipython",
    "version": 3
   },
   "file_extension": ".py",
   "mimetype": "text/x-python",
   "name": "python",
   "nbconvert_exporter": "python",
   "pygments_lexer": "ipython3",
   "version": "3.7.10"
  }
 },
 "nbformat": 4,
 "nbformat_minor": 4
}
